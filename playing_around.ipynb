{
 "cells": [
  {
   "cell_type": "code",
   "execution_count": 1,
   "metadata": {},
   "outputs": [
    {
     "ename": "NameError",
     "evalue": "name 'rcParams' is not defined",
     "output_type": "error",
     "traceback": [
      "\u001b[0;31m---------------------------------------------------------------------------\u001b[0m",
      "\u001b[0;31mNameError\u001b[0m                                 Traceback (most recent call last)",
      "\u001b[0;32m<ipython-input-1-6471e4402336>\u001b[0m in \u001b[0;36m<module>\u001b[0;34m\u001b[0m\n\u001b[1;32m     11\u001b[0m \u001b[0;32mimport\u001b[0m \u001b[0mmatplotlib\u001b[0m\u001b[0;34m.\u001b[0m\u001b[0mpyplot\u001b[0m \u001b[0;32mas\u001b[0m \u001b[0mplt\u001b[0m\u001b[0;34m;\u001b[0m \u001b[0mplt\u001b[0m\u001b[0;34m.\u001b[0m\u001b[0mrcdefaults\u001b[0m\u001b[0;34m(\u001b[0m\u001b[0;34m)\u001b[0m\u001b[0;34m\u001b[0m\u001b[0;34m\u001b[0m\u001b[0m\n\u001b[1;32m     12\u001b[0m \u001b[0;32mimport\u001b[0m \u001b[0mmatplotlib\u001b[0m\u001b[0;34m.\u001b[0m\u001b[0mpyplot\u001b[0m \u001b[0;32mas\u001b[0m \u001b[0mplt\u001b[0m\u001b[0;34m\u001b[0m\u001b[0;34m\u001b[0m\u001b[0m\n\u001b[0;32m---> 13\u001b[0;31m \u001b[0mrcParams\u001b[0m\u001b[0;34m[\u001b[0m\u001b[0;34m'figure.figsize'\u001b[0m\u001b[0;34m]\u001b[0m \u001b[0;34m=\u001b[0m \u001b[0;36m16\u001b[0m\u001b[0;34m,\u001b[0m \u001b[0;36m8\u001b[0m\u001b[0;34m\u001b[0m\u001b[0;34m\u001b[0m\u001b[0m\n\u001b[0m\u001b[1;32m     14\u001b[0m \u001b[0mget_ipython\u001b[0m\u001b[0;34m(\u001b[0m\u001b[0;34m)\u001b[0m\u001b[0;34m.\u001b[0m\u001b[0mrun_line_magic\u001b[0m\u001b[0;34m(\u001b[0m\u001b[0;34m'matplotlib'\u001b[0m\u001b[0;34m,\u001b[0m \u001b[0;34m'inline'\u001b[0m\u001b[0;34m)\u001b[0m\u001b[0;34m\u001b[0m\u001b[0;34m\u001b[0m\u001b[0m\n",
      "\u001b[0;31mNameError\u001b[0m: name 'rcParams' is not defined"
     ]
    }
   ],
   "source": [
    "import nltk\n",
    "from nltk import pos_tag\n",
    "from nltk.tokenize import sent_tokenize\n",
    "from nltk.tokenize import word_tokenize\n",
    "from nltk.probability import FreqDist\n",
    "from nltk.corpus import stopwords\n",
    "import spacy\n",
    "nlp = spacy.load('en_core_web_lg')\n",
    "import numpy as np\n",
    "from collections import Counter\n",
    "import matplotlib.pyplot as plt; plt.rcdefaults()\n",
    "import matplotlib.pyplot as plt\n",
    "rcParams['figure.figsize'] = 16, 8\n",
    "%matplotlib inline"
   ]
  },
  {
   "cell_type": "code",
   "execution_count": null,
   "metadata": {},
   "outputs": [],
   "source": [
    "words = re.findall(r'\\w+', open('stoker.txt').read().lower())"
   ]
  },
  {
   "cell_type": "code",
   "execution_count": null,
   "metadata": {},
   "outputs": [],
   "source": [
    "Counter(words).most_common(75)"
   ]
  },
  {
   "cell_type": "code",
   "execution_count": null,
   "metadata": {},
   "outputs": [],
   "source": [
    "nouns = [ token.text for token in stoker if token.is_stop != True and token.is_punct != True and token.pos_ == 'NOUN' ]"
   ]
  },
  {
   "cell_type": "code",
   "execution_count": 56,
   "metadata": {},
   "outputs": [],
   "source": [
    "defoe = nlp(open('Defoe.txt').read())\n",
    "eliot = nlp(open('Eliot.txt').read())\n",
    "stoker = nlp(open('Stoker.txt').read())\n",
    "kerouac = nlp(open('Kerouac.txt').read())"
   ]
  },
  {
   "cell_type": "code",
   "execution_count": 57,
   "metadata": {},
   "outputs": [],
   "source": [
    "word_freq = Counter(nouns)"
   ]
  },
  {
   "cell_type": "code",
   "execution_count": 58,
   "metadata": {},
   "outputs": [],
   "source": [
    "common_nouns = word_freq.most_common(10)"
   ]
  },
  {
   "cell_type": "code",
   "execution_count": 59,
   "metadata": {},
   "outputs": [
    {
     "name": "stdout",
     "output_type": "stream",
     "text": [
      "[('time', 385), ('night', 314), ('man', 252), ('room', 231), ('way', 223), ('day', 216), ('hand', 201), ('door', 199), ('face', 198), ('eyes', 188)]\n"
     ]
    }
   ],
   "source": [
    "print(common_nouns)"
   ]
  },
  {
   "cell_type": "code",
   "execution_count": 60,
   "metadata": {},
   "outputs": [
    {
     "data": {
      "image/png": "[encoded data removed]",
      "text/plain": [
       "<Figure size 432x288 with 1 Axes>"
      ]
     },
     "metadata": {
      "needs_background": "light"
     },
     "output_type": "display_data"
    }
   ],
   "source": [
    "common_nouns_for_graphing = ('time', 'night', 'man', 'room', 'way', 'day', 'hand', 'door', 'face', 'eyes')\n",
    "y_pos = np.arange(len(common_nouns_for_graphing))\n",
    "wordcounts = [385, 314, 252, 231, 223, 216, 201, 199, 198, 188]\n",
    "\n",
    "plt.barh(y_pos, wordcounts, align='center', alpha=0.5)\n",
    "plt.yticks(y_pos, common_nouns_for_graphing)\n",
    "plt.xlabel('Word Counts')\n",
    "plt.title('Most Common Nouns')\n",
    "\n",
    "plt.show()"
   ]
  },
  {
   "cell_type": "code",
   "execution_count": 61,
   "metadata": {},
   "outputs": [],
   "source": [
    "def process_text(filename):\n",
    "    \"\"\"\n",
    "    This function generates a list of tokens with punctuation, stopwords, and spaces removed for the whole text.\n",
    "    It also applies NLTK's part of speech tagging function to determine if words are nouns, adjectives, verbs, etc.\n",
    "    \"\"\"\n",
    "    text_tokens = []\n",
    "    # create a list of the words and punctuation we want to remove before analyzing    \n",
    "    stop_punc = set(stopwords.words('english') + [*string.punctuation] + [\"''\", '``'])\n",
    "    \n",
    "    with open(filename) as text:\n",
    "        for row in text:\n",
    "            #puts everything in lowercase, position tags\n",
    "            for token in pos_tag(word_tokenize(row.lower())):\n",
    "                #removes tokens if contains punctuation or stopwords\n",
    "                if token and token[0] not in stop_punc:\n",
    "                    text_tokens.append(token)\n",
    "    return text_tokens"
   ]
  },
  {
   "cell_type": "code",
   "execution_count": 62,
   "metadata": {},
   "outputs": [],
   "source": [
    "title_file = 'stoker.txt'\n",
    "title = \"Dracula\""
   ]
  },
  {
   "cell_type": "code",
   "execution_count": 63,
   "metadata": {},
   "outputs": [
    {
     "name": "stdout",
     "output_type": "stream",
     "text": [
      "[('rule', 'NN'), ('left', 'VBD'), ('pretty', 'RB'), ('good', 'JJ'), ('time', 'NN'), ('came', 'VBD'), ('nightfall', 'DT'), ('klausenburgh', 'VB'), ('stopped', 'VBD'), ('night', 'NN'), ('hotel', 'NN'), ('royale', 'NN'), ('dinner', 'NN'), ('rather', 'RB'), ('supper', 'NN'), ('chicken', 'NN'), ('done', 'VBN'), ('way', 'NN'), ('red', 'JJ'), ('pepper', 'NN'), ('good', 'JJ'), ('thirsty', 'JJ'), ('_mem._', 'UH'), ('get', 'VB'), ('recipe', 'NN'), ('mina', 'NNP'), ('asked', 'VBD'), ('waiter', 'NN'), ('said', 'VBD'), ('called', 'VBN'), ('paprika', 'JJ'), ('hendl', 'NN'), ('national', 'JJ'), ('dish', 'NN'), ('able', 'JJ'), ('get', 'VB'), ('anywhere', 'RB'), ('along', 'IN'), ('carpathians', 'NNS'), ('found', 'VBD'), ('smattering', 'NN'), ('german', 'JJ'), ('useful', 'JJ'), ('indeed', 'RB'), (\"n't\", 'RB'), ('know', 'VB'), ('able', 'JJ'), ('get', 'VB'), ('without', 'IN'), ('time', 'NN')]\n"
     ]
    }
   ],
   "source": [
    "testing = process_text(title_file)\n",
    "print(testing[300:350])"
   ]
  },
  {
   "cell_type": "code",
   "execution_count": null,
   "metadata": {},
   "outputs": [],
   "source": []
  },
  {
   "cell_type": "code",
   "execution_count": null,
   "metadata": {},
   "outputs": [],
   "source": []
  },
  {
   "cell_type": "code",
   "execution_count": null,
   "metadata": {},
   "outputs": [],
   "source": []
  }
 ],
 "metadata": {
  "kernelspec": {
   "display_name": "Python 3",
   "language": "python",
   "name": "python3"
  },
  "language_info": {
   "codemirror_mode": {
    "name": "ipython",
    "version": 3
   },
   "file_extension": ".py",
   "mimetype": "text/x-python",
   "name": "python",
   "nbconvert_exporter": "python",
   "pygments_lexer": "ipython3",
   "version": "3.7.5"
  }
 },
 "nbformat": 4,
 "nbformat_minor": 2
}
